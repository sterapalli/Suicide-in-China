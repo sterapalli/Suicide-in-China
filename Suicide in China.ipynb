{
 "cells": [
  {
   "cell_type": "code",
   "execution_count": 1,
   "id": "c6b78d10",
   "metadata": {},
   "outputs": [],
   "source": [
    "import numpy as np\n",
    "import pandas as pd\n",
    "import seaborn as sns\n"
   ]
  },
  {
   "cell_type": "code",
   "execution_count": 2,
   "id": "627b8138",
   "metadata": {},
   "outputs": [
    {
     "data": {
      "text/html": [
       "<div>\n",
       "<style scoped>\n",
       "    .dataframe tbody tr th:only-of-type {\n",
       "        vertical-align: middle;\n",
       "    }\n",
       "\n",
       "    .dataframe tbody tr th {\n",
       "        vertical-align: top;\n",
       "    }\n",
       "\n",
       "    .dataframe thead th {\n",
       "        text-align: right;\n",
       "    }\n",
       "</style>\n",
       "<table border=\"1\" class=\"dataframe\">\n",
       "  <thead>\n",
       "    <tr style=\"text-align: right;\">\n",
       "      <th></th>\n",
       "      <th>Unnamed: 0</th>\n",
       "      <th>Person_ID</th>\n",
       "      <th>Hospitalised</th>\n",
       "      <th>Died</th>\n",
       "      <th>Urban</th>\n",
       "      <th>Year</th>\n",
       "      <th>Month</th>\n",
       "      <th>Sex</th>\n",
       "      <th>Age</th>\n",
       "      <th>Education</th>\n",
       "      <th>Occupation</th>\n",
       "      <th>method</th>\n",
       "    </tr>\n",
       "  </thead>\n",
       "  <tbody>\n",
       "    <tr>\n",
       "      <th>0</th>\n",
       "      <td>1</td>\n",
       "      <td>1</td>\n",
       "      <td>yes</td>\n",
       "      <td>no</td>\n",
       "      <td>no</td>\n",
       "      <td>2010</td>\n",
       "      <td>12</td>\n",
       "      <td>female</td>\n",
       "      <td>39</td>\n",
       "      <td>Secondary</td>\n",
       "      <td>household</td>\n",
       "      <td>Other poison</td>\n",
       "    </tr>\n",
       "    <tr>\n",
       "      <th>1</th>\n",
       "      <td>2</td>\n",
       "      <td>2</td>\n",
       "      <td>no</td>\n",
       "      <td>yes</td>\n",
       "      <td>no</td>\n",
       "      <td>2009</td>\n",
       "      <td>3</td>\n",
       "      <td>male</td>\n",
       "      <td>83</td>\n",
       "      <td>primary</td>\n",
       "      <td>farming</td>\n",
       "      <td>Hanging</td>\n",
       "    </tr>\n",
       "    <tr>\n",
       "      <th>2</th>\n",
       "      <td>3</td>\n",
       "      <td>3</td>\n",
       "      <td>no</td>\n",
       "      <td>yes</td>\n",
       "      <td>no</td>\n",
       "      <td>2010</td>\n",
       "      <td>2</td>\n",
       "      <td>male</td>\n",
       "      <td>60</td>\n",
       "      <td>primary</td>\n",
       "      <td>farming</td>\n",
       "      <td>Hanging</td>\n",
       "    </tr>\n",
       "    <tr>\n",
       "      <th>3</th>\n",
       "      <td>4</td>\n",
       "      <td>4</td>\n",
       "      <td>no</td>\n",
       "      <td>yes</td>\n",
       "      <td>no</td>\n",
       "      <td>2011</td>\n",
       "      <td>1</td>\n",
       "      <td>male</td>\n",
       "      <td>73</td>\n",
       "      <td>primary</td>\n",
       "      <td>farming</td>\n",
       "      <td>Hanging</td>\n",
       "    </tr>\n",
       "    <tr>\n",
       "      <th>4</th>\n",
       "      <td>5</td>\n",
       "      <td>5</td>\n",
       "      <td>yes</td>\n",
       "      <td>no</td>\n",
       "      <td>no</td>\n",
       "      <td>2009</td>\n",
       "      <td>8</td>\n",
       "      <td>male</td>\n",
       "      <td>51</td>\n",
       "      <td>Secondary</td>\n",
       "      <td>farming</td>\n",
       "      <td>Pesticide</td>\n",
       "    </tr>\n",
       "    <tr>\n",
       "      <th>...</th>\n",
       "      <td>...</td>\n",
       "      <td>...</td>\n",
       "      <td>...</td>\n",
       "      <td>...</td>\n",
       "      <td>...</td>\n",
       "      <td>...</td>\n",
       "      <td>...</td>\n",
       "      <td>...</td>\n",
       "      <td>...</td>\n",
       "      <td>...</td>\n",
       "      <td>...</td>\n",
       "      <td>...</td>\n",
       "    </tr>\n",
       "    <tr>\n",
       "      <th>2566</th>\n",
       "      <td>2567</td>\n",
       "      <td>2567</td>\n",
       "      <td>yes</td>\n",
       "      <td>no</td>\n",
       "      <td>unknown</td>\n",
       "      <td>2010</td>\n",
       "      <td>7</td>\n",
       "      <td>male</td>\n",
       "      <td>28</td>\n",
       "      <td>primary</td>\n",
       "      <td>household</td>\n",
       "      <td>Pesticide</td>\n",
       "    </tr>\n",
       "    <tr>\n",
       "      <th>2567</th>\n",
       "      <td>2568</td>\n",
       "      <td>2568</td>\n",
       "      <td>yes</td>\n",
       "      <td>no</td>\n",
       "      <td>unknown</td>\n",
       "      <td>2011</td>\n",
       "      <td>6</td>\n",
       "      <td>male</td>\n",
       "      <td>35</td>\n",
       "      <td>Secondary</td>\n",
       "      <td>farming</td>\n",
       "      <td>Pesticide</td>\n",
       "    </tr>\n",
       "    <tr>\n",
       "      <th>2568</th>\n",
       "      <td>2569</td>\n",
       "      <td>2569</td>\n",
       "      <td>yes</td>\n",
       "      <td>no</td>\n",
       "      <td>unknown</td>\n",
       "      <td>2011</td>\n",
       "      <td>9</td>\n",
       "      <td>female</td>\n",
       "      <td>22</td>\n",
       "      <td>Secondary</td>\n",
       "      <td>unemployed</td>\n",
       "      <td>Other poison</td>\n",
       "    </tr>\n",
       "    <tr>\n",
       "      <th>2569</th>\n",
       "      <td>2570</td>\n",
       "      <td>2570</td>\n",
       "      <td>yes</td>\n",
       "      <td>no</td>\n",
       "      <td>unknown</td>\n",
       "      <td>2010</td>\n",
       "      <td>8</td>\n",
       "      <td>female</td>\n",
       "      <td>50</td>\n",
       "      <td>Secondary</td>\n",
       "      <td>farming</td>\n",
       "      <td>Pesticide</td>\n",
       "    </tr>\n",
       "    <tr>\n",
       "      <th>2570</th>\n",
       "      <td>2571</td>\n",
       "      <td>2571</td>\n",
       "      <td>yes</td>\n",
       "      <td>no</td>\n",
       "      <td>unknown</td>\n",
       "      <td>2010</td>\n",
       "      <td>7</td>\n",
       "      <td>female</td>\n",
       "      <td>44</td>\n",
       "      <td>primary</td>\n",
       "      <td>farming</td>\n",
       "      <td>Pesticide</td>\n",
       "    </tr>\n",
       "  </tbody>\n",
       "</table>\n",
       "<p>2571 rows × 12 columns</p>\n",
       "</div>"
      ],
      "text/plain": [
       "      Unnamed: 0  Person_ID Hospitalised Died    Urban  Year  Month     Sex  \\\n",
       "0              1          1          yes   no       no  2010     12  female   \n",
       "1              2          2           no  yes       no  2009      3    male   \n",
       "2              3          3           no  yes       no  2010      2    male   \n",
       "3              4          4           no  yes       no  2011      1    male   \n",
       "4              5          5          yes   no       no  2009      8    male   \n",
       "...          ...        ...          ...  ...      ...   ...    ...     ...   \n",
       "2566        2567       2567          yes   no  unknown  2010      7    male   \n",
       "2567        2568       2568          yes   no  unknown  2011      6    male   \n",
       "2568        2569       2569          yes   no  unknown  2011      9  female   \n",
       "2569        2570       2570          yes   no  unknown  2010      8  female   \n",
       "2570        2571       2571          yes   no  unknown  2010      7  female   \n",
       "\n",
       "      Age  Education  Occupation        method  \n",
       "0      39  Secondary   household  Other poison  \n",
       "1      83    primary     farming       Hanging  \n",
       "2      60    primary     farming       Hanging  \n",
       "3      73    primary     farming       Hanging  \n",
       "4      51  Secondary     farming     Pesticide  \n",
       "...   ...        ...         ...           ...  \n",
       "2566   28    primary   household     Pesticide  \n",
       "2567   35  Secondary     farming     Pesticide  \n",
       "2568   22  Secondary  unemployed  Other poison  \n",
       "2569   50  Secondary     farming     Pesticide  \n",
       "2570   44    primary     farming     Pesticide  \n",
       "\n",
       "[2571 rows x 12 columns]"
      ]
     },
     "execution_count": 2,
     "metadata": {},
     "output_type": "execute_result"
    }
   ],
   "source": [
    "data = pd.read_csv('SuicideChina.csv')\n",
    "data"
   ]
  },
  {
   "cell_type": "code",
   "execution_count": 3,
   "id": "aeeaba99",
   "metadata": {},
   "outputs": [
    {
     "data": {
      "text/plain": [
       "Unnamed: 0      0\n",
       "Person_ID       0\n",
       "Hospitalised    0\n",
       "Died            0\n",
       "Urban           0\n",
       "Year            0\n",
       "Month           0\n",
       "Sex             0\n",
       "Age             0\n",
       "Education       0\n",
       "Occupation      0\n",
       "method          0\n",
       "dtype: int64"
      ]
     },
     "execution_count": 3,
     "metadata": {},
     "output_type": "execute_result"
    }
   ],
   "source": [
    "data.isnull().sum()"
   ]
  },
  {
   "cell_type": "code",
   "execution_count": 4,
   "id": "04cd17a2",
   "metadata": {},
   "outputs": [
    {
     "data": {
      "text/plain": [
       "Unnamed: 0       int64\n",
       "Person_ID        int64\n",
       "Hospitalised    object\n",
       "Died            object\n",
       "Urban           object\n",
       "Year             int64\n",
       "Month            int64\n",
       "Sex             object\n",
       "Age              int64\n",
       "Education       object\n",
       "Occupation      object\n",
       "method          object\n",
       "dtype: object"
      ]
     },
     "execution_count": 4,
     "metadata": {},
     "output_type": "execute_result"
    }
   ],
   "source": [
    "data.dtypes"
   ]
  },
  {
   "cell_type": "code",
   "execution_count": 5,
   "id": "63641b43",
   "metadata": {},
   "outputs": [
    {
     "data": {
      "text/html": [
       "<div>\n",
       "<style scoped>\n",
       "    .dataframe tbody tr th:only-of-type {\n",
       "        vertical-align: middle;\n",
       "    }\n",
       "\n",
       "    .dataframe tbody tr th {\n",
       "        vertical-align: top;\n",
       "    }\n",
       "\n",
       "    .dataframe thead th {\n",
       "        text-align: right;\n",
       "    }\n",
       "</style>\n",
       "<table border=\"1\" class=\"dataframe\">\n",
       "  <thead>\n",
       "    <tr style=\"text-align: right;\">\n",
       "      <th></th>\n",
       "      <th>count</th>\n",
       "      <th>mean</th>\n",
       "      <th>std</th>\n",
       "      <th>min</th>\n",
       "      <th>25%</th>\n",
       "      <th>50%</th>\n",
       "      <th>75%</th>\n",
       "      <th>max</th>\n",
       "    </tr>\n",
       "  </thead>\n",
       "  <tbody>\n",
       "    <tr>\n",
       "      <th>Unnamed: 0</th>\n",
       "      <td>2571.0</td>\n",
       "      <td>1286.000000</td>\n",
       "      <td>742.328095</td>\n",
       "      <td>1.0</td>\n",
       "      <td>643.5</td>\n",
       "      <td>1286.0</td>\n",
       "      <td>1928.5</td>\n",
       "      <td>2571.0</td>\n",
       "    </tr>\n",
       "    <tr>\n",
       "      <th>Person_ID</th>\n",
       "      <td>2571.0</td>\n",
       "      <td>1286.000000</td>\n",
       "      <td>742.328095</td>\n",
       "      <td>1.0</td>\n",
       "      <td>643.5</td>\n",
       "      <td>1286.0</td>\n",
       "      <td>1928.5</td>\n",
       "      <td>2571.0</td>\n",
       "    </tr>\n",
       "    <tr>\n",
       "      <th>Year</th>\n",
       "      <td>2571.0</td>\n",
       "      <td>2010.045508</td>\n",
       "      <td>0.791412</td>\n",
       "      <td>2009.0</td>\n",
       "      <td>2009.0</td>\n",
       "      <td>2010.0</td>\n",
       "      <td>2011.0</td>\n",
       "      <td>2011.0</td>\n",
       "    </tr>\n",
       "    <tr>\n",
       "      <th>Month</th>\n",
       "      <td>2571.0</td>\n",
       "      <td>6.298327</td>\n",
       "      <td>3.202515</td>\n",
       "      <td>1.0</td>\n",
       "      <td>4.0</td>\n",
       "      <td>6.0</td>\n",
       "      <td>9.0</td>\n",
       "      <td>12.0</td>\n",
       "    </tr>\n",
       "    <tr>\n",
       "      <th>Age</th>\n",
       "      <td>2571.0</td>\n",
       "      <td>52.630883</td>\n",
       "      <td>19.783878</td>\n",
       "      <td>12.0</td>\n",
       "      <td>37.0</td>\n",
       "      <td>53.0</td>\n",
       "      <td>69.0</td>\n",
       "      <td>100.0</td>\n",
       "    </tr>\n",
       "  </tbody>\n",
       "</table>\n",
       "</div>"
      ],
      "text/plain": [
       "             count         mean         std     min     25%     50%     75%  \\\n",
       "Unnamed: 0  2571.0  1286.000000  742.328095     1.0   643.5  1286.0  1928.5   \n",
       "Person_ID   2571.0  1286.000000  742.328095     1.0   643.5  1286.0  1928.5   \n",
       "Year        2571.0  2010.045508    0.791412  2009.0  2009.0  2010.0  2011.0   \n",
       "Month       2571.0     6.298327    3.202515     1.0     4.0     6.0     9.0   \n",
       "Age         2571.0    52.630883   19.783878    12.0    37.0    53.0    69.0   \n",
       "\n",
       "               max  \n",
       "Unnamed: 0  2571.0  \n",
       "Person_ID   2571.0  \n",
       "Year        2011.0  \n",
       "Month         12.0  \n",
       "Age          100.0  "
      ]
     },
     "execution_count": 5,
     "metadata": {},
     "output_type": "execute_result"
    }
   ],
   "source": [
    "data.describe().T"
   ]
  },
  {
   "cell_type": "code",
   "execution_count": 6,
   "id": "c3549c9b",
   "metadata": {},
   "outputs": [],
   "source": [
    "data.drop(['Unnamed: 0','Person_ID'],axis=1,inplace=True)"
   ]
  },
  {
   "cell_type": "code",
   "execution_count": 7,
   "id": "48e94f16",
   "metadata": {},
   "outputs": [
    {
     "data": {
      "text/html": [
       "<div>\n",
       "<style scoped>\n",
       "    .dataframe tbody tr th:only-of-type {\n",
       "        vertical-align: middle;\n",
       "    }\n",
       "\n",
       "    .dataframe tbody tr th {\n",
       "        vertical-align: top;\n",
       "    }\n",
       "\n",
       "    .dataframe thead th {\n",
       "        text-align: right;\n",
       "    }\n",
       "</style>\n",
       "<table border=\"1\" class=\"dataframe\">\n",
       "  <thead>\n",
       "    <tr style=\"text-align: right;\">\n",
       "      <th></th>\n",
       "      <th>Hospitalised</th>\n",
       "      <th>Died</th>\n",
       "      <th>Urban</th>\n",
       "      <th>Year</th>\n",
       "      <th>Month</th>\n",
       "      <th>Sex</th>\n",
       "      <th>Age</th>\n",
       "      <th>Education</th>\n",
       "      <th>Occupation</th>\n",
       "      <th>method</th>\n",
       "    </tr>\n",
       "  </thead>\n",
       "  <tbody>\n",
       "    <tr>\n",
       "      <th>0</th>\n",
       "      <td>yes</td>\n",
       "      <td>no</td>\n",
       "      <td>no</td>\n",
       "      <td>2010</td>\n",
       "      <td>12</td>\n",
       "      <td>female</td>\n",
       "      <td>39</td>\n",
       "      <td>Secondary</td>\n",
       "      <td>household</td>\n",
       "      <td>Other poison</td>\n",
       "    </tr>\n",
       "    <tr>\n",
       "      <th>1</th>\n",
       "      <td>no</td>\n",
       "      <td>yes</td>\n",
       "      <td>no</td>\n",
       "      <td>2009</td>\n",
       "      <td>3</td>\n",
       "      <td>male</td>\n",
       "      <td>83</td>\n",
       "      <td>primary</td>\n",
       "      <td>farming</td>\n",
       "      <td>Hanging</td>\n",
       "    </tr>\n",
       "    <tr>\n",
       "      <th>2</th>\n",
       "      <td>no</td>\n",
       "      <td>yes</td>\n",
       "      <td>no</td>\n",
       "      <td>2010</td>\n",
       "      <td>2</td>\n",
       "      <td>male</td>\n",
       "      <td>60</td>\n",
       "      <td>primary</td>\n",
       "      <td>farming</td>\n",
       "      <td>Hanging</td>\n",
       "    </tr>\n",
       "    <tr>\n",
       "      <th>3</th>\n",
       "      <td>no</td>\n",
       "      <td>yes</td>\n",
       "      <td>no</td>\n",
       "      <td>2011</td>\n",
       "      <td>1</td>\n",
       "      <td>male</td>\n",
       "      <td>73</td>\n",
       "      <td>primary</td>\n",
       "      <td>farming</td>\n",
       "      <td>Hanging</td>\n",
       "    </tr>\n",
       "    <tr>\n",
       "      <th>4</th>\n",
       "      <td>yes</td>\n",
       "      <td>no</td>\n",
       "      <td>no</td>\n",
       "      <td>2009</td>\n",
       "      <td>8</td>\n",
       "      <td>male</td>\n",
       "      <td>51</td>\n",
       "      <td>Secondary</td>\n",
       "      <td>farming</td>\n",
       "      <td>Pesticide</td>\n",
       "    </tr>\n",
       "    <tr>\n",
       "      <th>...</th>\n",
       "      <td>...</td>\n",
       "      <td>...</td>\n",
       "      <td>...</td>\n",
       "      <td>...</td>\n",
       "      <td>...</td>\n",
       "      <td>...</td>\n",
       "      <td>...</td>\n",
       "      <td>...</td>\n",
       "      <td>...</td>\n",
       "      <td>...</td>\n",
       "    </tr>\n",
       "    <tr>\n",
       "      <th>2566</th>\n",
       "      <td>yes</td>\n",
       "      <td>no</td>\n",
       "      <td>unknown</td>\n",
       "      <td>2010</td>\n",
       "      <td>7</td>\n",
       "      <td>male</td>\n",
       "      <td>28</td>\n",
       "      <td>primary</td>\n",
       "      <td>household</td>\n",
       "      <td>Pesticide</td>\n",
       "    </tr>\n",
       "    <tr>\n",
       "      <th>2567</th>\n",
       "      <td>yes</td>\n",
       "      <td>no</td>\n",
       "      <td>unknown</td>\n",
       "      <td>2011</td>\n",
       "      <td>6</td>\n",
       "      <td>male</td>\n",
       "      <td>35</td>\n",
       "      <td>Secondary</td>\n",
       "      <td>farming</td>\n",
       "      <td>Pesticide</td>\n",
       "    </tr>\n",
       "    <tr>\n",
       "      <th>2568</th>\n",
       "      <td>yes</td>\n",
       "      <td>no</td>\n",
       "      <td>unknown</td>\n",
       "      <td>2011</td>\n",
       "      <td>9</td>\n",
       "      <td>female</td>\n",
       "      <td>22</td>\n",
       "      <td>Secondary</td>\n",
       "      <td>unemployed</td>\n",
       "      <td>Other poison</td>\n",
       "    </tr>\n",
       "    <tr>\n",
       "      <th>2569</th>\n",
       "      <td>yes</td>\n",
       "      <td>no</td>\n",
       "      <td>unknown</td>\n",
       "      <td>2010</td>\n",
       "      <td>8</td>\n",
       "      <td>female</td>\n",
       "      <td>50</td>\n",
       "      <td>Secondary</td>\n",
       "      <td>farming</td>\n",
       "      <td>Pesticide</td>\n",
       "    </tr>\n",
       "    <tr>\n",
       "      <th>2570</th>\n",
       "      <td>yes</td>\n",
       "      <td>no</td>\n",
       "      <td>unknown</td>\n",
       "      <td>2010</td>\n",
       "      <td>7</td>\n",
       "      <td>female</td>\n",
       "      <td>44</td>\n",
       "      <td>primary</td>\n",
       "      <td>farming</td>\n",
       "      <td>Pesticide</td>\n",
       "    </tr>\n",
       "  </tbody>\n",
       "</table>\n",
       "<p>2571 rows × 10 columns</p>\n",
       "</div>"
      ],
      "text/plain": [
       "     Hospitalised Died    Urban  Year  Month     Sex  Age  Education  \\\n",
       "0             yes   no       no  2010     12  female   39  Secondary   \n",
       "1              no  yes       no  2009      3    male   83    primary   \n",
       "2              no  yes       no  2010      2    male   60    primary   \n",
       "3              no  yes       no  2011      1    male   73    primary   \n",
       "4             yes   no       no  2009      8    male   51  Secondary   \n",
       "...           ...  ...      ...   ...    ...     ...  ...        ...   \n",
       "2566          yes   no  unknown  2010      7    male   28    primary   \n",
       "2567          yes   no  unknown  2011      6    male   35  Secondary   \n",
       "2568          yes   no  unknown  2011      9  female   22  Secondary   \n",
       "2569          yes   no  unknown  2010      8  female   50  Secondary   \n",
       "2570          yes   no  unknown  2010      7  female   44    primary   \n",
       "\n",
       "      Occupation        method  \n",
       "0      household  Other poison  \n",
       "1        farming       Hanging  \n",
       "2        farming       Hanging  \n",
       "3        farming       Hanging  \n",
       "4        farming     Pesticide  \n",
       "...          ...           ...  \n",
       "2566   household     Pesticide  \n",
       "2567     farming     Pesticide  \n",
       "2568  unemployed  Other poison  \n",
       "2569     farming     Pesticide  \n",
       "2570     farming     Pesticide  \n",
       "\n",
       "[2571 rows x 10 columns]"
      ]
     },
     "execution_count": 7,
     "metadata": {},
     "output_type": "execute_result"
    }
   ],
   "source": [
    "data"
   ]
  },
  {
   "cell_type": "code",
   "execution_count": 8,
   "id": "9951fc1b",
   "metadata": {},
   "outputs": [
    {
     "data": {
      "text/html": [
       "<div>\n",
       "<style scoped>\n",
       "    .dataframe tbody tr th:only-of-type {\n",
       "        vertical-align: middle;\n",
       "    }\n",
       "\n",
       "    .dataframe tbody tr th {\n",
       "        vertical-align: top;\n",
       "    }\n",
       "\n",
       "    .dataframe thead th {\n",
       "        text-align: right;\n",
       "    }\n",
       "</style>\n",
       "<table border=\"1\" class=\"dataframe\">\n",
       "  <thead>\n",
       "    <tr style=\"text-align: right;\">\n",
       "      <th></th>\n",
       "      <th>Hospitalised</th>\n",
       "      <th>Died</th>\n",
       "      <th>Urban</th>\n",
       "      <th>Year</th>\n",
       "      <th>Month</th>\n",
       "      <th>Sex</th>\n",
       "      <th>Age</th>\n",
       "      <th>Education</th>\n",
       "      <th>Occupation</th>\n",
       "      <th>method</th>\n",
       "    </tr>\n",
       "  </thead>\n",
       "  <tbody>\n",
       "    <tr>\n",
       "      <th>2567</th>\n",
       "      <td>yes</td>\n",
       "      <td>no</td>\n",
       "      <td>unknown</td>\n",
       "      <td>2011</td>\n",
       "      <td>6</td>\n",
       "      <td>male</td>\n",
       "      <td>35</td>\n",
       "      <td>Secondary</td>\n",
       "      <td>farming</td>\n",
       "      <td>Pesticide</td>\n",
       "    </tr>\n",
       "    <tr>\n",
       "      <th>2568</th>\n",
       "      <td>yes</td>\n",
       "      <td>no</td>\n",
       "      <td>unknown</td>\n",
       "      <td>2011</td>\n",
       "      <td>9</td>\n",
       "      <td>female</td>\n",
       "      <td>22</td>\n",
       "      <td>Secondary</td>\n",
       "      <td>unemployed</td>\n",
       "      <td>Other poison</td>\n",
       "    </tr>\n",
       "    <tr>\n",
       "      <th>2569</th>\n",
       "      <td>yes</td>\n",
       "      <td>no</td>\n",
       "      <td>unknown</td>\n",
       "      <td>2010</td>\n",
       "      <td>8</td>\n",
       "      <td>female</td>\n",
       "      <td>50</td>\n",
       "      <td>Secondary</td>\n",
       "      <td>farming</td>\n",
       "      <td>Pesticide</td>\n",
       "    </tr>\n",
       "    <tr>\n",
       "      <th>2570</th>\n",
       "      <td>yes</td>\n",
       "      <td>no</td>\n",
       "      <td>unknown</td>\n",
       "      <td>2010</td>\n",
       "      <td>7</td>\n",
       "      <td>female</td>\n",
       "      <td>44</td>\n",
       "      <td>primary</td>\n",
       "      <td>farming</td>\n",
       "      <td>Pesticide</td>\n",
       "    </tr>\n",
       "  </tbody>\n",
       "</table>\n",
       "</div>"
      ],
      "text/plain": [
       "     Hospitalised Died    Urban  Year  Month     Sex  Age  Education  \\\n",
       "2567          yes   no  unknown  2011      6    male   35  Secondary   \n",
       "2568          yes   no  unknown  2011      9  female   22  Secondary   \n",
       "2569          yes   no  unknown  2010      8  female   50  Secondary   \n",
       "2570          yes   no  unknown  2010      7  female   44    primary   \n",
       "\n",
       "      Occupation        method  \n",
       "2567     farming     Pesticide  \n",
       "2568  unemployed  Other poison  \n",
       "2569     farming     Pesticide  \n",
       "2570     farming     Pesticide  "
      ]
     },
     "execution_count": 8,
     "metadata": {},
     "output_type": "execute_result"
    }
   ],
   "source": [
    "data.tail(4)"
   ]
  },
  {
   "cell_type": "code",
   "execution_count": 9,
   "id": "07d93878",
   "metadata": {},
   "outputs": [],
   "source": [
    "#Replacing \n",
    "#Hospitalised yes as 1, no as 0\n",
    "#Urban unknown as 3\n",
    "# Sex male as 1, female as 2\n"
   ]
  },
  {
   "cell_type": "code",
   "execution_count": 10,
   "id": "d0799c64",
   "metadata": {},
   "outputs": [
    {
     "data": {
      "text/plain": [
       "<seaborn.axisgrid.FacetGrid at 0x7f7d9f412c50>"
      ]
     },
     "execution_count": 10,
     "metadata": {},
     "output_type": "execute_result"
    },
    {
     "data": {
      "image/png": "[encoded data removed]",
      "text/plain": [
       "<Figure size 500x500 with 1 Axes>"
      ]
     },
     "metadata": {},
     "output_type": "display_data"
    }
   ],
   "source": [
    "sns.displot(x=data.Hospitalised)"
   ]
  },
  {
   "cell_type": "markdown",
   "id": "1d3d27d8",
   "metadata": {},
   "source": [
    "##### insight \n",
    "* almost 1600 people has hospitalised and sadly 1000 people might didn't make it "
   ]
  },
  {
   "cell_type": "code",
   "execution_count": 11,
   "id": "24ce05d7",
   "metadata": {},
   "outputs": [
    {
     "data": {
      "text/plain": [
       "<seaborn.axisgrid.FacetGrid at 0x7f7d9f5ba260>"
      ]
     },
     "execution_count": 11,
     "metadata": {},
     "output_type": "execute_result"
    },
    {
     "data": {
      "image/png": "[encoded data removed]",
      "text/plain": [
       "<Figure size 500x500 with 1 Axes>"
      ]
     },
     "metadata": {},
     "output_type": "display_data"
    }
   ],
   "source": [
    "sns.displot(x=data.Died)"
   ]
  },
  {
   "cell_type": "markdown",
   "id": "a221eaf7",
   "metadata": {},
   "source": [
    "###### insight\n",
    "* The death rate is higher then the Survivor rate"
   ]
  },
  {
   "cell_type": "code",
   "execution_count": 12,
   "id": "5fdc8c97",
   "metadata": {},
   "outputs": [
    {
     "data": {
      "text/plain": [
       "<seaborn.axisgrid.FacetGrid at 0x7f7d9fa1c9d0>"
      ]
     },
     "execution_count": 12,
     "metadata": {},
     "output_type": "execute_result"
    },
    {
     "data": {
      "image/png": "[encoded data removed]",
      "text/plain": [
       "<Figure size 500x500 with 1 Axes>"
      ]
     },
     "metadata": {},
     "output_type": "display_data"
    }
   ],
   "source": [
    "sns.displot(x=data.Urban)"
   ]
  },
  {
   "cell_type": "code",
   "execution_count": 13,
   "id": "bfc9d318",
   "metadata": {},
   "outputs": [
    {
     "data": {
      "text/plain": [
       "<seaborn.axisgrid.FacetGrid at 0x7f7d9fa67490>"
      ]
     },
     "execution_count": 13,
     "metadata": {},
     "output_type": "execute_result"
    },
    {
     "data": {
      "image/png": "[encoded data removed]",
      "text/plain": [
       "<Figure size 500x500 with 1 Axes>"
      ]
     },
     "metadata": {},
     "output_type": "display_data"
    }
   ],
   "source": [
    "sns.displot(x=data.Year)\n"
   ]
  },
  {
   "cell_type": "code",
   "execution_count": 14,
   "id": "6a46b988",
   "metadata": {},
   "outputs": [
    {
     "data": {
      "text/plain": [
       "<seaborn.axisgrid.FacetGrid at 0x7f7d9a7fbc70>"
      ]
     },
     "execution_count": 14,
     "metadata": {},
     "output_type": "execute_result"
    },
    {
     "data": {
      "image/png": "[encoded data removed]",
      "text/plain": [
       "<Figure size 500x500 with 1 Axes>"
      ]
     },
     "metadata": {},
     "output_type": "display_data"
    }
   ],
   "source": [
    "sns.displot(x=data.Month, kde=True)"
   ]
  },
  {
   "cell_type": "code",
   "execution_count": 15,
   "id": "5cf5d003",
   "metadata": {},
   "outputs": [
    {
     "data": {
      "text/plain": [
       "<seaborn.axisgrid.FacetGrid at 0x7f7d9ffc4a90>"
      ]
     },
     "execution_count": 15,
     "metadata": {},
     "output_type": "execute_result"
    },
    {
     "data": {
      "image/png": "[encoded data removed]",
      "text/plain": [
       "<Figure size 500x500 with 1 Axes>"
      ]
     },
     "metadata": {},
     "output_type": "display_data"
    }
   ],
   "source": [
    "sns.displot(x=data.Sex)"
   ]
  },
  {
   "cell_type": "code",
   "execution_count": 16,
   "id": "3405b603",
   "metadata": {},
   "outputs": [
    {
     "data": {
      "text/plain": [
       "<seaborn.axisgrid.FacetGrid at 0x7f7d9ff80b20>"
      ]
     },
     "execution_count": 16,
     "metadata": {},
     "output_type": "execute_result"
    },
    {
     "data": {
      "image/png": "[encoded data removed]",
      "text/plain": [
       "<Figure size 500x500 with 1 Axes>"
      ]
     },
     "metadata": {},
     "output_type": "display_data"
    }
   ],
   "source": [
    "sns.displot(x=data.Age,kde=True)"
   ]
  },
  {
   "cell_type": "code",
   "execution_count": 17,
   "id": "12e7976a",
   "metadata": {},
   "outputs": [
    {
     "data": {
      "text/plain": [
       "<seaborn.axisgrid.FacetGrid at 0x7f7da04ad090>"
      ]
     },
     "execution_count": 17,
     "metadata": {},
     "output_type": "execute_result"
    },
    {
     "data": {
      "image/png": "[encoded data removed]",
      "text/plain": [
       "<Figure size 500x500 with 1 Axes>"
      ]
     },
     "metadata": {},
     "output_type": "display_data"
    }
   ],
   "source": [
    "sns.displot(x=data.Education)"
   ]
  },
  {
   "cell_type": "code",
   "execution_count": 18,
   "id": "8437bfa0",
   "metadata": {},
   "outputs": [
    {
     "data": {
      "text/plain": [
       "<seaborn.axisgrid.FacetGrid at 0x7f7da0898e80>"
      ]
     },
     "execution_count": 18,
     "metadata": {},
     "output_type": "execute_result"
    },
    {
     "data": {
      "image/png": "[encoded data removed]",
      "text/plain": [
       "<Figure size 500x500 with 1 Axes>"
      ]
     },
     "metadata": {},
     "output_type": "display_data"
    }
   ],
   "source": [
    "sns.displot(x=data.Occupation)"
   ]
  },
  {
   "cell_type": "code",
   "execution_count": 19,
   "id": "a42d2b76",
   "metadata": {},
   "outputs": [
    {
     "data": {
      "text/plain": [
       "<seaborn.axisgrid.FacetGrid at 0x7f7da0d630a0>"
      ]
     },
     "execution_count": 19,
     "metadata": {},
     "output_type": "execute_result"
    },
    {
     "data": {
      "image/png": "[encoded data removed]",
      "text/plain": [
       "<Figure size 500x500 with 1 Axes>"
      ]
     },
     "metadata": {},
     "output_type": "display_data"
    }
   ],
   "source": [
    "sns.displot(x=data.method)"
   ]
  },
  {
   "cell_type": "markdown",
   "id": "3e19b1c4",
   "metadata": {},
   "source": [
    "# outliers"
   ]
  },
  {
   "cell_type": "code",
   "execution_count": 20,
   "id": "14be9a5a",
   "metadata": {},
   "outputs": [
    {
     "data": {
      "text/html": [
       "<div>\n",
       "<style scoped>\n",
       "    .dataframe tbody tr th:only-of-type {\n",
       "        vertical-align: middle;\n",
       "    }\n",
       "\n",
       "    .dataframe tbody tr th {\n",
       "        vertical-align: top;\n",
       "    }\n",
       "\n",
       "    .dataframe thead th {\n",
       "        text-align: right;\n",
       "    }\n",
       "</style>\n",
       "<table border=\"1\" class=\"dataframe\">\n",
       "  <thead>\n",
       "    <tr style=\"text-align: right;\">\n",
       "      <th></th>\n",
       "      <th>Hospitalised</th>\n",
       "      <th>Died</th>\n",
       "      <th>Urban</th>\n",
       "      <th>Year</th>\n",
       "      <th>Month</th>\n",
       "      <th>Sex</th>\n",
       "      <th>Age</th>\n",
       "      <th>Education</th>\n",
       "      <th>Occupation</th>\n",
       "      <th>method</th>\n",
       "    </tr>\n",
       "  </thead>\n",
       "  <tbody>\n",
       "    <tr>\n",
       "      <th>2566</th>\n",
       "      <td>yes</td>\n",
       "      <td>no</td>\n",
       "      <td>unknown</td>\n",
       "      <td>2010</td>\n",
       "      <td>7</td>\n",
       "      <td>male</td>\n",
       "      <td>28</td>\n",
       "      <td>primary</td>\n",
       "      <td>household</td>\n",
       "      <td>Pesticide</td>\n",
       "    </tr>\n",
       "    <tr>\n",
       "      <th>2567</th>\n",
       "      <td>yes</td>\n",
       "      <td>no</td>\n",
       "      <td>unknown</td>\n",
       "      <td>2011</td>\n",
       "      <td>6</td>\n",
       "      <td>male</td>\n",
       "      <td>35</td>\n",
       "      <td>Secondary</td>\n",
       "      <td>farming</td>\n",
       "      <td>Pesticide</td>\n",
       "    </tr>\n",
       "    <tr>\n",
       "      <th>2568</th>\n",
       "      <td>yes</td>\n",
       "      <td>no</td>\n",
       "      <td>unknown</td>\n",
       "      <td>2011</td>\n",
       "      <td>9</td>\n",
       "      <td>female</td>\n",
       "      <td>22</td>\n",
       "      <td>Secondary</td>\n",
       "      <td>unemployed</td>\n",
       "      <td>Other poison</td>\n",
       "    </tr>\n",
       "    <tr>\n",
       "      <th>2569</th>\n",
       "      <td>yes</td>\n",
       "      <td>no</td>\n",
       "      <td>unknown</td>\n",
       "      <td>2010</td>\n",
       "      <td>8</td>\n",
       "      <td>female</td>\n",
       "      <td>50</td>\n",
       "      <td>Secondary</td>\n",
       "      <td>farming</td>\n",
       "      <td>Pesticide</td>\n",
       "    </tr>\n",
       "    <tr>\n",
       "      <th>2570</th>\n",
       "      <td>yes</td>\n",
       "      <td>no</td>\n",
       "      <td>unknown</td>\n",
       "      <td>2010</td>\n",
       "      <td>7</td>\n",
       "      <td>female</td>\n",
       "      <td>44</td>\n",
       "      <td>primary</td>\n",
       "      <td>farming</td>\n",
       "      <td>Pesticide</td>\n",
       "    </tr>\n",
       "  </tbody>\n",
       "</table>\n",
       "</div>"
      ],
      "text/plain": [
       "     Hospitalised Died    Urban  Year  Month     Sex  Age  Education  \\\n",
       "2566          yes   no  unknown  2010      7    male   28    primary   \n",
       "2567          yes   no  unknown  2011      6    male   35  Secondary   \n",
       "2568          yes   no  unknown  2011      9  female   22  Secondary   \n",
       "2569          yes   no  unknown  2010      8  female   50  Secondary   \n",
       "2570          yes   no  unknown  2010      7  female   44    primary   \n",
       "\n",
       "      Occupation        method  \n",
       "2566   household     Pesticide  \n",
       "2567     farming     Pesticide  \n",
       "2568  unemployed  Other poison  \n",
       "2569     farming     Pesticide  \n",
       "2570     farming     Pesticide  "
      ]
     },
     "execution_count": 20,
     "metadata": {},
     "output_type": "execute_result"
    }
   ],
   "source": [
    "data.tail()"
   ]
  },
  {
   "cell_type": "code",
   "execution_count": 21,
   "id": "47c4d4fd",
   "metadata": {},
   "outputs": [
    {
     "data": {
      "text/plain": [
       "<Axes: xlabel='Age'>"
      ]
     },
     "execution_count": 21,
     "metadata": {},
     "output_type": "execute_result"
    },
    {
     "data": {
      "image/png": "[encoded data removed]",
      "text/plain": [
       "<Figure size 640x480 with 1 Axes>"
      ]
     },
     "metadata": {},
     "output_type": "display_data"
    }
   ],
   "source": [
    "sns.boxplot(x=data.Age)"
   ]
  },
  {
   "cell_type": "code",
   "execution_count": 22,
   "id": "6b3f59bc",
   "metadata": {},
   "outputs": [
    {
     "data": {
      "text/plain": [
       "<Axes: xlabel='Year'>"
      ]
     },
     "execution_count": 22,
     "metadata": {},
     "output_type": "execute_result"
    },
    {
     "data": {
      "image/png": "[encoded data removed]",
      "text/plain": [
       "<Figure size 640x480 with 1 Axes>"
      ]
     },
     "metadata": {},
     "output_type": "display_data"
    }
   ],
   "source": [
    "sns.boxplot(x=data.Year)"
   ]
  },
  {
   "cell_type": "code",
   "execution_count": 23,
   "id": "6d7b9ae3",
   "metadata": {},
   "outputs": [
    {
     "data": {
      "text/plain": [
       "<Axes: xlabel='Month'>"
      ]
     },
     "execution_count": 23,
     "metadata": {},
     "output_type": "execute_result"
    },
    {
     "data": {
      "image/png": "[encoded data removed]",
      "text/plain": [
       "<Figure size 640x480 with 1 Axes>"
      ]
     },
     "metadata": {},
     "output_type": "display_data"
    }
   ],
   "source": [
    "sns.boxplot(x=data.Month)"
   ]
  },
  {
   "cell_type": "markdown",
   "id": "0e5f8312",
   "metadata": {},
   "source": [
    "# no Outliers"
   ]
  },
  {
   "cell_type": "code",
   "execution_count": 24,
   "id": "ff17a717",
   "metadata": {},
   "outputs": [
    {
     "data": {
      "text/plain": [
       "<Axes: ylabel='Count'>"
      ]
     },
     "execution_count": 24,
     "metadata": {},
     "output_type": "execute_result"
    },
    {
     "data": {
      "image/png": "[encoded data removed]",
      "text/plain": [
       "<Figure size 640x480 with 1 Axes>"
      ]
     },
     "metadata": {},
     "output_type": "display_data"
    }
   ],
   "source": [
    "sns.histplot(data)"
   ]
  },
  {
   "cell_type": "code",
   "execution_count": 25,
   "id": "4139e838",
   "metadata": {},
   "outputs": [
    {
     "name": "stderr",
     "output_type": "stream",
     "text": [
      "/var/folders/rd/_mbdnhmx29553yf7vqdc5vkh0000gn/T/ipykernel_23139/2578434383.py:1: FutureWarning: The default value of numeric_only in DataFrame.corr is deprecated. In a future version, it will default to False. Select only valid columns or specify the value of numeric_only to silence this warning.\n",
      "  sns.heatmap(data.corr(),annot=True)\n"
     ]
    },
    {
     "data": {
      "text/plain": [
       "<Axes: >"
      ]
     },
     "execution_count": 25,
     "metadata": {},
     "output_type": "execute_result"
    },
    {
     "data": {
      "image/png": "[encoded data removed]",
      "text/plain": [
       "<Figure size 640x480 with 2 Axes>"
      ]
     },
     "metadata": {},
     "output_type": "display_data"
    }
   ],
   "source": [
    "sns.heatmap(data.corr(),annot=True)"
   ]
  },
  {
   "cell_type": "markdown",
   "id": "3ee4e14b",
   "metadata": {},
   "source": [
    "* month has very less correalation "
   ]
  },
  {
   "cell_type": "code",
   "execution_count": 26,
   "id": "da4eaabb",
   "metadata": {},
   "outputs": [
    {
     "name": "stderr",
     "output_type": "stream",
     "text": [
      "/var/folders/rd/_mbdnhmx29553yf7vqdc5vkh0000gn/T/ipykernel_23139/2317396452.py:1: FutureWarning: The default value of numeric_only in DataFrame.corr is deprecated. In a future version, it will default to False. Select only valid columns or specify the value of numeric_only to silence this warning.\n",
      "  sns.heatmap(data.drop('Age',axis = 1).corr(), annot=True)\n"
     ]
    },
    {
     "data": {
      "text/plain": [
       "<Axes: >"
      ]
     },
     "execution_count": 26,
     "metadata": {},
     "output_type": "execute_result"
    },
    {
     "data": {
      "image/png": "[encoded data removed]",
      "text/plain": [
       "<Figure size 640x480 with 2 Axes>"
      ]
     },
     "metadata": {},
     "output_type": "display_data"
    }
   ],
   "source": [
    "sns.heatmap(data.drop('Age',axis = 1).corr(), annot=True)"
   ]
  },
  {
   "cell_type": "code",
   "execution_count": 27,
   "id": "94d76d30",
   "metadata": {
    "scrolled": true
   },
   "outputs": [
    {
     "data": {
      "text/html": [
       "<div>\n",
       "<style scoped>\n",
       "    .dataframe tbody tr th:only-of-type {\n",
       "        vertical-align: middle;\n",
       "    }\n",
       "\n",
       "    .dataframe tbody tr th {\n",
       "        vertical-align: top;\n",
       "    }\n",
       "\n",
       "    .dataframe thead th {\n",
       "        text-align: right;\n",
       "    }\n",
       "</style>\n",
       "<table border=\"1\" class=\"dataframe\">\n",
       "  <thead>\n",
       "    <tr style=\"text-align: right;\">\n",
       "      <th></th>\n",
       "      <th>Hospitalised</th>\n",
       "      <th>Died</th>\n",
       "      <th>Urban</th>\n",
       "      <th>Year</th>\n",
       "      <th>Month</th>\n",
       "      <th>Sex</th>\n",
       "      <th>Age</th>\n",
       "      <th>Education</th>\n",
       "      <th>Occupation</th>\n",
       "      <th>method</th>\n",
       "    </tr>\n",
       "  </thead>\n",
       "  <tbody>\n",
       "    <tr>\n",
       "      <th>0</th>\n",
       "      <td>yes</td>\n",
       "      <td>no</td>\n",
       "      <td>no</td>\n",
       "      <td>2010</td>\n",
       "      <td>12</td>\n",
       "      <td>female</td>\n",
       "      <td>39</td>\n",
       "      <td>Secondary</td>\n",
       "      <td>household</td>\n",
       "      <td>Other poison</td>\n",
       "    </tr>\n",
       "    <tr>\n",
       "      <th>1</th>\n",
       "      <td>no</td>\n",
       "      <td>yes</td>\n",
       "      <td>no</td>\n",
       "      <td>2009</td>\n",
       "      <td>3</td>\n",
       "      <td>male</td>\n",
       "      <td>83</td>\n",
       "      <td>primary</td>\n",
       "      <td>farming</td>\n",
       "      <td>Hanging</td>\n",
       "    </tr>\n",
       "    <tr>\n",
       "      <th>2</th>\n",
       "      <td>no</td>\n",
       "      <td>yes</td>\n",
       "      <td>no</td>\n",
       "      <td>2010</td>\n",
       "      <td>2</td>\n",
       "      <td>male</td>\n",
       "      <td>60</td>\n",
       "      <td>primary</td>\n",
       "      <td>farming</td>\n",
       "      <td>Hanging</td>\n",
       "    </tr>\n",
       "    <tr>\n",
       "      <th>3</th>\n",
       "      <td>no</td>\n",
       "      <td>yes</td>\n",
       "      <td>no</td>\n",
       "      <td>2011</td>\n",
       "      <td>1</td>\n",
       "      <td>male</td>\n",
       "      <td>73</td>\n",
       "      <td>primary</td>\n",
       "      <td>farming</td>\n",
       "      <td>Hanging</td>\n",
       "    </tr>\n",
       "    <tr>\n",
       "      <th>4</th>\n",
       "      <td>yes</td>\n",
       "      <td>no</td>\n",
       "      <td>no</td>\n",
       "      <td>2009</td>\n",
       "      <td>8</td>\n",
       "      <td>male</td>\n",
       "      <td>51</td>\n",
       "      <td>Secondary</td>\n",
       "      <td>farming</td>\n",
       "      <td>Pesticide</td>\n",
       "    </tr>\n",
       "  </tbody>\n",
       "</table>\n",
       "</div>"
      ],
      "text/plain": [
       "  Hospitalised Died Urban  Year  Month     Sex  Age  Education Occupation  \\\n",
       "0          yes   no    no  2010     12  female   39  Secondary  household   \n",
       "1           no  yes    no  2009      3    male   83    primary    farming   \n",
       "2           no  yes    no  2010      2    male   60    primary    farming   \n",
       "3           no  yes    no  2011      1    male   73    primary    farming   \n",
       "4          yes   no    no  2009      8    male   51  Secondary    farming   \n",
       "\n",
       "         method  \n",
       "0  Other poison  \n",
       "1       Hanging  \n",
       "2       Hanging  \n",
       "3       Hanging  \n",
       "4     Pesticide  "
      ]
     },
     "execution_count": 27,
     "metadata": {},
     "output_type": "execute_result"
    }
   ],
   "source": [
    "data.head()"
   ]
  },
  {
   "cell_type": "code",
   "execution_count": 28,
   "id": "6cd70b21",
   "metadata": {
    "scrolled": true
   },
   "outputs": [
    {
     "data": {
      "text/html": [
       "<div>\n",
       "<style scoped>\n",
       "    .dataframe tbody tr th:only-of-type {\n",
       "        vertical-align: middle;\n",
       "    }\n",
       "\n",
       "    .dataframe tbody tr th {\n",
       "        vertical-align: top;\n",
       "    }\n",
       "\n",
       "    .dataframe thead th {\n",
       "        text-align: right;\n",
       "    }\n",
       "</style>\n",
       "<table border=\"1\" class=\"dataframe\">\n",
       "  <thead>\n",
       "    <tr style=\"text-align: right;\">\n",
       "      <th></th>\n",
       "      <th>Hospitalised</th>\n",
       "      <th>Died</th>\n",
       "      <th>Urban</th>\n",
       "      <th>Year</th>\n",
       "      <th>Month</th>\n",
       "      <th>Sex</th>\n",
       "      <th>Age</th>\n",
       "      <th>Education</th>\n",
       "      <th>Occupation</th>\n",
       "      <th>method</th>\n",
       "    </tr>\n",
       "  </thead>\n",
       "  <tbody>\n",
       "    <tr>\n",
       "      <th>0</th>\n",
       "      <td>yes</td>\n",
       "      <td>no</td>\n",
       "      <td>no</td>\n",
       "      <td>2010</td>\n",
       "      <td>12</td>\n",
       "      <td>female</td>\n",
       "      <td>39</td>\n",
       "      <td>Secondary</td>\n",
       "      <td>household</td>\n",
       "      <td>Other poison</td>\n",
       "    </tr>\n",
       "    <tr>\n",
       "      <th>1</th>\n",
       "      <td>no</td>\n",
       "      <td>yes</td>\n",
       "      <td>no</td>\n",
       "      <td>2009</td>\n",
       "      <td>3</td>\n",
       "      <td>male</td>\n",
       "      <td>83</td>\n",
       "      <td>primary</td>\n",
       "      <td>farming</td>\n",
       "      <td>Hanging</td>\n",
       "    </tr>\n",
       "    <tr>\n",
       "      <th>2</th>\n",
       "      <td>no</td>\n",
       "      <td>yes</td>\n",
       "      <td>no</td>\n",
       "      <td>2010</td>\n",
       "      <td>2</td>\n",
       "      <td>male</td>\n",
       "      <td>60</td>\n",
       "      <td>primary</td>\n",
       "      <td>farming</td>\n",
       "      <td>Hanging</td>\n",
       "    </tr>\n",
       "    <tr>\n",
       "      <th>3</th>\n",
       "      <td>no</td>\n",
       "      <td>yes</td>\n",
       "      <td>no</td>\n",
       "      <td>2011</td>\n",
       "      <td>1</td>\n",
       "      <td>male</td>\n",
       "      <td>73</td>\n",
       "      <td>primary</td>\n",
       "      <td>farming</td>\n",
       "      <td>Hanging</td>\n",
       "    </tr>\n",
       "    <tr>\n",
       "      <th>4</th>\n",
       "      <td>yes</td>\n",
       "      <td>no</td>\n",
       "      <td>no</td>\n",
       "      <td>2009</td>\n",
       "      <td>8</td>\n",
       "      <td>male</td>\n",
       "      <td>51</td>\n",
       "      <td>Secondary</td>\n",
       "      <td>farming</td>\n",
       "      <td>Pesticide</td>\n",
       "    </tr>\n",
       "    <tr>\n",
       "      <th>...</th>\n",
       "      <td>...</td>\n",
       "      <td>...</td>\n",
       "      <td>...</td>\n",
       "      <td>...</td>\n",
       "      <td>...</td>\n",
       "      <td>...</td>\n",
       "      <td>...</td>\n",
       "      <td>...</td>\n",
       "      <td>...</td>\n",
       "      <td>...</td>\n",
       "    </tr>\n",
       "    <tr>\n",
       "      <th>2566</th>\n",
       "      <td>yes</td>\n",
       "      <td>no</td>\n",
       "      <td>unknown</td>\n",
       "      <td>2010</td>\n",
       "      <td>7</td>\n",
       "      <td>male</td>\n",
       "      <td>28</td>\n",
       "      <td>primary</td>\n",
       "      <td>household</td>\n",
       "      <td>Pesticide</td>\n",
       "    </tr>\n",
       "    <tr>\n",
       "      <th>2567</th>\n",
       "      <td>yes</td>\n",
       "      <td>no</td>\n",
       "      <td>unknown</td>\n",
       "      <td>2011</td>\n",
       "      <td>6</td>\n",
       "      <td>male</td>\n",
       "      <td>35</td>\n",
       "      <td>Secondary</td>\n",
       "      <td>farming</td>\n",
       "      <td>Pesticide</td>\n",
       "    </tr>\n",
       "    <tr>\n",
       "      <th>2568</th>\n",
       "      <td>yes</td>\n",
       "      <td>no</td>\n",
       "      <td>unknown</td>\n",
       "      <td>2011</td>\n",
       "      <td>9</td>\n",
       "      <td>female</td>\n",
       "      <td>22</td>\n",
       "      <td>Secondary</td>\n",
       "      <td>unemployed</td>\n",
       "      <td>Other poison</td>\n",
       "    </tr>\n",
       "    <tr>\n",
       "      <th>2569</th>\n",
       "      <td>yes</td>\n",
       "      <td>no</td>\n",
       "      <td>unknown</td>\n",
       "      <td>2010</td>\n",
       "      <td>8</td>\n",
       "      <td>female</td>\n",
       "      <td>50</td>\n",
       "      <td>Secondary</td>\n",
       "      <td>farming</td>\n",
       "      <td>Pesticide</td>\n",
       "    </tr>\n",
       "    <tr>\n",
       "      <th>2570</th>\n",
       "      <td>yes</td>\n",
       "      <td>no</td>\n",
       "      <td>unknown</td>\n",
       "      <td>2010</td>\n",
       "      <td>7</td>\n",
       "      <td>female</td>\n",
       "      <td>44</td>\n",
       "      <td>primary</td>\n",
       "      <td>farming</td>\n",
       "      <td>Pesticide</td>\n",
       "    </tr>\n",
       "  </tbody>\n",
       "</table>\n",
       "<p>2571 rows × 10 columns</p>\n",
       "</div>"
      ],
      "text/plain": [
       "     Hospitalised Died    Urban  Year  Month     Sex  Age  Education  \\\n",
       "0             yes   no       no  2010     12  female   39  Secondary   \n",
       "1              no  yes       no  2009      3    male   83    primary   \n",
       "2              no  yes       no  2010      2    male   60    primary   \n",
       "3              no  yes       no  2011      1    male   73    primary   \n",
       "4             yes   no       no  2009      8    male   51  Secondary   \n",
       "...           ...  ...      ...   ...    ...     ...  ...        ...   \n",
       "2566          yes   no  unknown  2010      7    male   28    primary   \n",
       "2567          yes   no  unknown  2011      6    male   35  Secondary   \n",
       "2568          yes   no  unknown  2011      9  female   22  Secondary   \n",
       "2569          yes   no  unknown  2010      8  female   50  Secondary   \n",
       "2570          yes   no  unknown  2010      7  female   44    primary   \n",
       "\n",
       "      Occupation        method  \n",
       "0      household  Other poison  \n",
       "1        farming       Hanging  \n",
       "2        farming       Hanging  \n",
       "3        farming       Hanging  \n",
       "4        farming     Pesticide  \n",
       "...          ...           ...  \n",
       "2566   household     Pesticide  \n",
       "2567     farming     Pesticide  \n",
       "2568  unemployed  Other poison  \n",
       "2569     farming     Pesticide  \n",
       "2570     farming     Pesticide  \n",
       "\n",
       "[2571 rows x 10 columns]"
      ]
     },
     "execution_count": 28,
     "metadata": {},
     "output_type": "execute_result"
    }
   ],
   "source": [
    "data"
   ]
  },
  {
   "cell_type": "code",
   "execution_count": 29,
   "id": "7cdb7ed1",
   "metadata": {},
   "outputs": [],
   "source": [
    "data['Hospitalised'].replace({'yes':1,'no':0},inplace=True)\n",
    "data['Urban'].replace({'yes':1,'no':0,'unknown':3},inplace=True)\n",
    "data['Sex'].replace({'female':1,'male':0},inplace=True)\n",
    "data['Education'].replace({'Secondary':1,'primary':0,'iliterate':2,'Tertiary':3,'unknown':4},inplace=True)\n",
    "data['Occupation'].replace({'farming':1,'household':0,'others/unknown':3,'business/service':4,'professional':5,'unemployed':6,'student':7,'retiree':8,'others':9,'worker':10},inplace=True)\n",
    "data['method'].replace({'Hanging':1,'Pesticide':0,'Other poison':2,'others':3,'unspecified':4,'Poison unspec':5,'Drowning':6,'Cutting':7,'Jumping' :8,'Others':9},inplace=True)\n",
    "data['Died'].replace({'yes':1,'no':0},inplace=True)"
   ]
  },
  {
   "cell_type": "code",
   "execution_count": 30,
   "id": "4dcd0baa",
   "metadata": {
    "scrolled": true
   },
   "outputs": [
    {
     "data": {
      "text/html": [
       "<div>\n",
       "<style scoped>\n",
       "    .dataframe tbody tr th:only-of-type {\n",
       "        vertical-align: middle;\n",
       "    }\n",
       "\n",
       "    .dataframe tbody tr th {\n",
       "        vertical-align: top;\n",
       "    }\n",
       "\n",
       "    .dataframe thead th {\n",
       "        text-align: right;\n",
       "    }\n",
       "</style>\n",
       "<table border=\"1\" class=\"dataframe\">\n",
       "  <thead>\n",
       "    <tr style=\"text-align: right;\">\n",
       "      <th></th>\n",
       "      <th>Hospitalised</th>\n",
       "      <th>Died</th>\n",
       "      <th>Urban</th>\n",
       "      <th>Year</th>\n",
       "      <th>Month</th>\n",
       "      <th>Sex</th>\n",
       "      <th>Age</th>\n",
       "      <th>Education</th>\n",
       "      <th>Occupation</th>\n",
       "      <th>method</th>\n",
       "    </tr>\n",
       "  </thead>\n",
       "  <tbody>\n",
       "    <tr>\n",
       "      <th>0</th>\n",
       "      <td>1</td>\n",
       "      <td>0</td>\n",
       "      <td>0</td>\n",
       "      <td>2010</td>\n",
       "      <td>12</td>\n",
       "      <td>1</td>\n",
       "      <td>39</td>\n",
       "      <td>1</td>\n",
       "      <td>0</td>\n",
       "      <td>2</td>\n",
       "    </tr>\n",
       "    <tr>\n",
       "      <th>1</th>\n",
       "      <td>0</td>\n",
       "      <td>1</td>\n",
       "      <td>0</td>\n",
       "      <td>2009</td>\n",
       "      <td>3</td>\n",
       "      <td>0</td>\n",
       "      <td>83</td>\n",
       "      <td>0</td>\n",
       "      <td>1</td>\n",
       "      <td>1</td>\n",
       "    </tr>\n",
       "    <tr>\n",
       "      <th>2</th>\n",
       "      <td>0</td>\n",
       "      <td>1</td>\n",
       "      <td>0</td>\n",
       "      <td>2010</td>\n",
       "      <td>2</td>\n",
       "      <td>0</td>\n",
       "      <td>60</td>\n",
       "      <td>0</td>\n",
       "      <td>1</td>\n",
       "      <td>1</td>\n",
       "    </tr>\n",
       "    <tr>\n",
       "      <th>3</th>\n",
       "      <td>0</td>\n",
       "      <td>1</td>\n",
       "      <td>0</td>\n",
       "      <td>2011</td>\n",
       "      <td>1</td>\n",
       "      <td>0</td>\n",
       "      <td>73</td>\n",
       "      <td>0</td>\n",
       "      <td>1</td>\n",
       "      <td>1</td>\n",
       "    </tr>\n",
       "    <tr>\n",
       "      <th>4</th>\n",
       "      <td>1</td>\n",
       "      <td>0</td>\n",
       "      <td>0</td>\n",
       "      <td>2009</td>\n",
       "      <td>8</td>\n",
       "      <td>0</td>\n",
       "      <td>51</td>\n",
       "      <td>1</td>\n",
       "      <td>1</td>\n",
       "      <td>0</td>\n",
       "    </tr>\n",
       "    <tr>\n",
       "      <th>...</th>\n",
       "      <td>...</td>\n",
       "      <td>...</td>\n",
       "      <td>...</td>\n",
       "      <td>...</td>\n",
       "      <td>...</td>\n",
       "      <td>...</td>\n",
       "      <td>...</td>\n",
       "      <td>...</td>\n",
       "      <td>...</td>\n",
       "      <td>...</td>\n",
       "    </tr>\n",
       "    <tr>\n",
       "      <th>2566</th>\n",
       "      <td>1</td>\n",
       "      <td>0</td>\n",
       "      <td>3</td>\n",
       "      <td>2010</td>\n",
       "      <td>7</td>\n",
       "      <td>0</td>\n",
       "      <td>28</td>\n",
       "      <td>0</td>\n",
       "      <td>0</td>\n",
       "      <td>0</td>\n",
       "    </tr>\n",
       "    <tr>\n",
       "      <th>2567</th>\n",
       "      <td>1</td>\n",
       "      <td>0</td>\n",
       "      <td>3</td>\n",
       "      <td>2011</td>\n",
       "      <td>6</td>\n",
       "      <td>0</td>\n",
       "      <td>35</td>\n",
       "      <td>1</td>\n",
       "      <td>1</td>\n",
       "      <td>0</td>\n",
       "    </tr>\n",
       "    <tr>\n",
       "      <th>2568</th>\n",
       "      <td>1</td>\n",
       "      <td>0</td>\n",
       "      <td>3</td>\n",
       "      <td>2011</td>\n",
       "      <td>9</td>\n",
       "      <td>1</td>\n",
       "      <td>22</td>\n",
       "      <td>1</td>\n",
       "      <td>6</td>\n",
       "      <td>2</td>\n",
       "    </tr>\n",
       "    <tr>\n",
       "      <th>2569</th>\n",
       "      <td>1</td>\n",
       "      <td>0</td>\n",
       "      <td>3</td>\n",
       "      <td>2010</td>\n",
       "      <td>8</td>\n",
       "      <td>1</td>\n",
       "      <td>50</td>\n",
       "      <td>1</td>\n",
       "      <td>1</td>\n",
       "      <td>0</td>\n",
       "    </tr>\n",
       "    <tr>\n",
       "      <th>2570</th>\n",
       "      <td>1</td>\n",
       "      <td>0</td>\n",
       "      <td>3</td>\n",
       "      <td>2010</td>\n",
       "      <td>7</td>\n",
       "      <td>1</td>\n",
       "      <td>44</td>\n",
       "      <td>0</td>\n",
       "      <td>1</td>\n",
       "      <td>0</td>\n",
       "    </tr>\n",
       "  </tbody>\n",
       "</table>\n",
       "<p>2571 rows × 10 columns</p>\n",
       "</div>"
      ],
      "text/plain": [
       "      Hospitalised  Died  Urban  Year  Month  Sex  Age  Education  Occupation  \\\n",
       "0                1     0      0  2010     12    1   39          1           0   \n",
       "1                0     1      0  2009      3    0   83          0           1   \n",
       "2                0     1      0  2010      2    0   60          0           1   \n",
       "3                0     1      0  2011      1    0   73          0           1   \n",
       "4                1     0      0  2009      8    0   51          1           1   \n",
       "...            ...   ...    ...   ...    ...  ...  ...        ...         ...   \n",
       "2566             1     0      3  2010      7    0   28          0           0   \n",
       "2567             1     0      3  2011      6    0   35          1           1   \n",
       "2568             1     0      3  2011      9    1   22          1           6   \n",
       "2569             1     0      3  2010      8    1   50          1           1   \n",
       "2570             1     0      3  2010      7    1   44          0           1   \n",
       "\n",
       "      method  \n",
       "0          2  \n",
       "1          1  \n",
       "2          1  \n",
       "3          1  \n",
       "4          0  \n",
       "...      ...  \n",
       "2566       0  \n",
       "2567       0  \n",
       "2568       2  \n",
       "2569       0  \n",
       "2570       0  \n",
       "\n",
       "[2571 rows x 10 columns]"
      ]
     },
     "execution_count": 30,
     "metadata": {},
     "output_type": "execute_result"
    }
   ],
   "source": [
    "data"
   ]
  },
  {
   "cell_type": "markdown",
   "id": "b49428b4",
   "metadata": {},
   "source": [
    "## spliting data for training and testing"
   ]
  },
  {
   "cell_type": "code",
   "execution_count": 31,
   "id": "5b3a9985",
   "metadata": {},
   "outputs": [],
   "source": [
    "from sklearn.model_selection import train_test_split\n",
    "from sklearn.linear_model import LinearRegression\n",
    "from sklearn.metrics import mean_absolute_error,mean_squared_error,r2_score\n",
    "x= data.drop('Died',axis=1)\n",
    "y = data['Died']"
   ]
  },
  {
   "cell_type": "code",
   "execution_count": 32,
   "id": "0757d39b",
   "metadata": {},
   "outputs": [],
   "source": [
    "x_train,x_test,y_train,y_test = train_test_split(x,y,test_size=0.30, random_state=4)# 30%"
   ]
  },
  {
   "cell_type": "code",
   "execution_count": 33,
   "id": "b3ef992c",
   "metadata": {},
   "outputs": [
    {
     "data": {
      "text/html": [
       "<style>#sk-container-id-1 {color: black;background-color: white;}#sk-container-id-1 pre{padding: 0;}#sk-container-id-1 div.sk-toggleable {background-color: white;}#sk-container-id-1 label.sk-toggleable__label {cursor: pointer;display: block;width: 100%;margin-bottom: 0;padding: 0.3em;box-sizing: border-box;text-align: center;}#sk-container-id-1 label.sk-toggleable__label-arrow:before {content: \"▸\";float: left;margin-right: 0.25em;color: #696969;}#sk-container-id-1 label.sk-toggleable__label-arrow:hover:before {color: black;}#sk-container-id-1 div.sk-estimator:hover label.sk-toggleable__label-arrow:before {color: black;}#sk-container-id-1 div.sk-toggleable__content {max-height: 0;max-width: 0;overflow: hidden;text-align: left;background-color: #f0f8ff;}#sk-container-id-1 div.sk-toggleable__content pre {margin: 0.2em;color: black;border-radius: 0.25em;background-color: #f0f8ff;}#sk-container-id-1 input.sk-toggleable__control:checked~div.sk-toggleable__content {max-height: 200px;max-width: 100%;overflow: auto;}#sk-container-id-1 input.sk-toggleable__control:checked~label.sk-toggleable__label-arrow:before {content: \"▾\";}#sk-container-id-1 div.sk-estimator input.sk-toggleable__control:checked~label.sk-toggleable__label {background-color: #d4ebff;}#sk-container-id-1 div.sk-label input.sk-toggleable__control:checked~label.sk-toggleable__label {background-color: #d4ebff;}#sk-container-id-1 input.sk-hidden--visually {border: 0;clip: rect(1px 1px 1px 1px);clip: rect(1px, 1px, 1px, 1px);height: 1px;margin: -1px;overflow: hidden;padding: 0;position: absolute;width: 1px;}#sk-container-id-1 div.sk-estimator {font-family: monospace;background-color: #f0f8ff;border: 1px dotted black;border-radius: 0.25em;box-sizing: border-box;margin-bottom: 0.5em;}#sk-container-id-1 div.sk-estimator:hover {background-color: #d4ebff;}#sk-container-id-1 div.sk-parallel-item::after {content: \"\";width: 100%;border-bottom: 1px solid gray;flex-grow: 1;}#sk-container-id-1 div.sk-label:hover label.sk-toggleable__label {background-color: #d4ebff;}#sk-container-id-1 div.sk-serial::before {content: \"\";position: absolute;border-left: 1px solid gray;box-sizing: border-box;top: 0;bottom: 0;left: 50%;z-index: 0;}#sk-container-id-1 div.sk-serial {display: flex;flex-direction: column;align-items: center;background-color: white;padding-right: 0.2em;padding-left: 0.2em;position: relative;}#sk-container-id-1 div.sk-item {position: relative;z-index: 1;}#sk-container-id-1 div.sk-parallel {display: flex;align-items: stretch;justify-content: center;background-color: white;position: relative;}#sk-container-id-1 div.sk-item::before, #sk-container-id-1 div.sk-parallel-item::before {content: \"\";position: absolute;border-left: 1px solid gray;box-sizing: border-box;top: 0;bottom: 0;left: 50%;z-index: -1;}#sk-container-id-1 div.sk-parallel-item {display: flex;flex-direction: column;z-index: 1;position: relative;background-color: white;}#sk-container-id-1 div.sk-parallel-item:first-child::after {align-self: flex-end;width: 50%;}#sk-container-id-1 div.sk-parallel-item:last-child::after {align-self: flex-start;width: 50%;}#sk-container-id-1 div.sk-parallel-item:only-child::after {width: 0;}#sk-container-id-1 div.sk-dashed-wrapped {border: 1px dashed gray;margin: 0 0.4em 0.5em 0.4em;box-sizing: border-box;padding-bottom: 0.4em;background-color: white;}#sk-container-id-1 div.sk-label label {font-family: monospace;font-weight: bold;display: inline-block;line-height: 1.2em;}#sk-container-id-1 div.sk-label-container {text-align: center;}#sk-container-id-1 div.sk-container {/* jupyter's `normalize.less` sets `[hidden] { display: none; }` but bootstrap.min.css set `[hidden] { display: none !important; }` so we also need the `!important` here to be able to override the default hidden behavior on the sphinx rendered scikit-learn.org. See: https://github.com/scikit-learn/scikit-learn/issues/21755 */display: inline-block !important;position: relative;}#sk-container-id-1 div.sk-text-repr-fallback {display: none;}</style><div id=\"sk-container-id-1\" class=\"sk-top-container\"><div class=\"sk-text-repr-fallback\"><pre>LinearRegression()</pre><b>In a Jupyter environment, please rerun this cell to show the HTML representation or trust the notebook. <br />On GitHub, the HTML representation is unable to render, please try loading this page with nbviewer.org.</b></div><div class=\"sk-container\" hidden><div class=\"sk-item\"><div class=\"sk-estimator sk-toggleable\"><input class=\"sk-toggleable__control sk-hidden--visually\" id=\"sk-estimator-id-1\" type=\"checkbox\" checked><label for=\"sk-estimator-id-1\" class=\"sk-toggleable__label sk-toggleable__label-arrow\">LinearRegression</label><div class=\"sk-toggleable__content\"><pre>LinearRegression()</pre></div></div></div></div></div>"
      ],
      "text/plain": [
       "LinearRegression()"
      ]
     },
     "execution_count": 33,
     "metadata": {},
     "output_type": "execute_result"
    }
   ],
   "source": [
    "model = LinearRegression()\n",
    "model.fit(x_train,y_train)"
   ]
  },
  {
   "cell_type": "code",
   "execution_count": 34,
   "id": "92db7888",
   "metadata": {},
   "outputs": [
    {
     "data": {
      "text/plain": [
       "array([ 0.98419222,  0.95138912,  1.0645084 ,  0.06556517,  1.06242066,\n",
       "        1.03535909,  0.14659745,  0.98297621,  0.14731152,  0.98780758,\n",
       "        1.03048912,  0.18817748,  0.99893882,  0.8979886 ,  0.12137157,\n",
       "        1.0566841 ,  1.05862162,  0.21131242,  0.10255822,  0.12170707,\n",
       "        0.22236211,  1.03761871,  0.08144889,  0.04370103,  0.18165823,\n",
       "        0.10661229,  0.04085238,  0.98073407,  0.24278387,  0.21584531,\n",
       "        0.22927579,  0.22241098,  0.9388822 ,  0.18856978,  0.22736979,\n",
       "        0.17925564,  0.95677984,  1.07977363,  1.0106946 ,  1.03837887,\n",
       "        0.14512056,  0.14945833,  0.24132696,  0.27865947,  0.19375546,\n",
       "        0.19866599,  0.19201854,  0.11291853,  0.24065324,  0.20699317,\n",
       "        0.1202419 , -0.00522622,  1.10236758,  0.20022153,  1.10296044,\n",
       "        0.12921795,  0.20930639,  1.06169412,  0.04566436,  0.11631995,\n",
       "        0.14818521,  1.09159187,  0.20405099,  0.17782302,  1.06394967,\n",
       "        0.21549035,  1.01433201,  0.12175335,  1.0551736 ,  1.0682106 ,\n",
       "        0.1873638 ,  0.10568767,  0.17779407,  0.16937786,  0.88918028,\n",
       "        0.19443731,  0.22887298,  1.0013596 ,  1.06489976,  0.11484658,\n",
       "        0.23160893,  0.23812912,  0.13148447,  0.11218815,  0.13168814,\n",
       "        0.13039844,  1.06279809,  0.16243426,  0.066287  ,  0.16387146,\n",
       "        1.03382807,  1.00178352,  0.18397857,  0.91511789,  1.02529172,\n",
       "        1.04379256,  0.11698413,  1.08367703,  1.07880706,  0.18543907,\n",
       "        0.15165141,  1.00272341,  0.9994653 ,  0.17221809,  0.99747599,\n",
       "        0.05856187,  0.2259509 ,  0.15942282,  0.8754689 ,  0.19661422,\n",
       "        0.21797233,  0.07794105,  0.22464834,  0.1978202 ,  1.06644358,\n",
       "        0.16719634,  0.14631377,  0.05295182,  0.03442646,  0.16054869,\n",
       "        0.92637741,  0.21022878,  1.0940962 ,  0.0922959 ,  0.15223823,\n",
       "        1.06722615,  0.28989135,  0.10494122,  0.26633655,  0.17086632,\n",
       "        0.2775336 ,  0.16881913,  0.90433249,  0.27040421,  0.1545954 ,\n",
       "        1.06024375,  1.02131208,  0.06361584,  0.08967879,  1.06354832,\n",
       "        0.10719678,  0.17246814,  0.13761844,  0.96745706,  0.8298385 ,\n",
       "        0.93234562,  0.13024965,  0.21446345,  0.02462983,  0.21106564,\n",
       "        0.23480444,  0.12369425,  0.88519611,  0.14372285,  0.1218322 ,\n",
       "        1.06081991,  0.00885411,  0.96726915,  0.2400322 ,  0.88752985,\n",
       "        1.04025918,  0.08888566,  0.94107529,  1.05185084,  0.2592954 ,\n",
       "        0.97273051,  0.99774582,  0.12548792,  0.22289904,  0.25588152,\n",
       "        1.045671  ,  0.24772363,  1.03803025,  0.11640484,  0.06869452,\n",
       "        0.16949159,  0.06838552,  0.2492418 ,  0.14584869,  1.03106986,\n",
       "        1.02232782,  0.9723714 ,  0.07219847,  0.96793679,  0.25491495,\n",
       "        0.19460427,  1.1239133 ,  1.03539997,  0.91506339,  1.02742807,\n",
       "        0.20200494,  0.16150117,  0.93476459,  0.18111557,  0.10647672,\n",
       "        0.1819752 ,  0.14845378,  0.19648696,  0.17564599,  0.28237213,\n",
       "        0.93982428,  0.14154594,  1.01903315,  0.21937398,  1.02826166,\n",
       "        0.16647655,  0.19414896,  0.18159576,  1.06248884,  0.17506278,\n",
       "        1.0059391 ,  0.17247027,  1.0899674 ,  1.03667648,  0.12083337,\n",
       "        1.07100128,  1.07593339,  0.12580895,  0.21171364,  0.1789246 ,\n",
       "        0.91685442,  0.16884275,  0.1863767 ,  0.11053573,  0.28617063,\n",
       "        1.05197969,  0.13208483,  0.05809999,  0.1672104 ,  1.02400274,\n",
       "        0.13801482,  0.78430291,  0.14440436,  0.181495  ,  0.06978356,\n",
       "        0.18621196,  1.09760668,  0.18817862,  1.10827333,  0.9398079 ,\n",
       "        0.94803805,  1.07394281,  0.08890184,  0.20432528,  0.10514945,\n",
       "        0.09355649,  0.15303327,  0.82432265,  0.10347839,  0.22835223,\n",
       "        1.03586572,  0.12657131,  0.08431689,  1.05127122,  0.94259858,\n",
       "        0.20839088,  1.03594623,  1.01075134,  0.2087417 ,  0.22749492,\n",
       "        0.21271226,  0.02394706,  0.15942282,  0.20588082,  0.95934843,\n",
       "        0.12849137,  0.09811439,  0.30927161,  1.02619112,  1.00793674,\n",
       "        0.98902061,  0.96623424,  1.01181835,  0.19285552,  1.03230277,\n",
       "        0.17028347,  0.9609226 ,  1.03318006,  1.0258383 ,  0.17207105,\n",
       "        0.85945652,  0.19821816,  1.02418775,  0.10354086,  0.8872783 ,\n",
       "        0.8649796 ,  1.02289305,  1.08988728,  0.97618479,  1.03030513,\n",
       "        0.96782773,  0.24512399,  0.96584931,  0.99514751,  1.05463679,\n",
       "        0.11430066,  1.02522725,  0.10479399,  0.98054435,  0.2109186 ,\n",
       "        0.96796544,  0.11291853,  0.10744896,  0.14383172,  0.24971394,\n",
       "        0.25562542, -0.01145752,  1.08451835,  0.1296174 ,  1.01038805,\n",
       "        0.20400471,  0.97021053,  0.14029102,  1.02254563,  0.18761598,\n",
       "        0.15290368,  0.20155711,  0.04016281,  0.22063303,  1.02917333,\n",
       "        1.05162441,  0.14964359,  0.12150829,  1.01540734,  0.85299343,\n",
       "        0.2774652 ,  0.29123265,  0.13793384,  0.98799497,  1.0886313 ,\n",
       "        0.08631313,  0.26055805,  0.15324742,  0.17798246,  1.01994502,\n",
       "        0.22337711,  0.1691846 ,  0.99741553,  0.12629696,  0.98479967,\n",
       "        0.17731406,  0.23898683,  0.95736125,  0.93123593,  0.85333019,\n",
       "        1.0743399 ,  0.98583804,  1.01171791,  0.06908773,  0.05106873,\n",
       "        0.25600305,  0.16778362,  0.21519636,  0.19778482,  0.16182181,\n",
       "        0.19728986,  0.06447335, -0.0114301 ,  0.12316408,  0.99668295,\n",
       "        0.21767331,  0.0671445 ,  0.27858895,  0.12651875,  0.79944449,\n",
       "        0.13415185,  0.96087946,  0.19297448,  0.91392389,  0.96260853,\n",
       "        0.94938362,  0.18201734,  0.17839397,  1.03600869,  0.93589407,\n",
       "        0.07505934,  0.95584368,  0.9851307 ,  0.18339202,  1.0389911 ,\n",
       "        0.87951703,  0.14645401,  0.96625615,  0.17286969,  0.09050589,\n",
       "        0.25044652,  0.99722381,  0.10855963,  0.27326875,  0.91562618,\n",
       "        0.17443182,  0.90735009,  0.15928197,  0.12003833,  1.03442093,\n",
       "        0.11078791,  1.07386216,  0.12562917,  0.96690203,  0.92259063,\n",
       "        0.11998299,  0.92284301,  0.93554717,  1.00867304,  1.04557036,\n",
       "        0.97607572,  0.09155682,  0.0706803 ,  0.99551652,  0.06848008,\n",
       "        0.96185379,  0.97115075,  1.0953092 ,  0.09331643,  1.05342846,\n",
       "        0.9833993 ,  0.27909   ,  0.13287755,  0.12855729,  0.1013904 ,\n",
       "        1.07289558,  0.00879276,  0.12151735,  0.9860163 ,  0.18437206,\n",
       "        0.15981844,  0.19774009,  0.14365326,  0.2540332 ,  0.16142619,\n",
       "        0.12521955,  0.92645393,  0.18888909,  0.94979923,  0.07055056,\n",
       "        0.08651904,  0.15822855,  0.22257161,  1.00927836,  0.09357637,\n",
       "        0.10726265,  0.02397141,  0.12195925,  0.10071681,  0.13628362,\n",
       "        0.1633471 ,  0.18435995,  0.23839769,  0.1538445 ,  0.20857263,\n",
       "        0.92359305,  0.2028729 ,  0.97607   ,  0.9099388 ,  0.21662443,\n",
       "        0.95843185,  0.14743046,  1.03688439,  0.9253528 ,  0.18414596,\n",
       "        0.21446345,  0.94679344,  0.14645401,  0.20945577,  0.93460721,\n",
       "        0.08923647,  0.12526609,  0.97945523,  0.0992796 ,  0.16752738,\n",
       "        1.06826766,  0.97786746,  0.92667046,  1.04904031,  0.14027037,\n",
       "        0.17587401,  1.06301352,  0.13574076,  0.96661368,  0.95086264,\n",
       "        0.11920147,  0.30134058,  1.0401265 ,  0.14292535,  0.15006597,\n",
       "        1.07037146,  0.8934858 ,  0.12080113,  0.03847613,  0.13552518,\n",
       "        0.94422092,  0.10919706,  0.30419912,  1.05030936,  0.16236234,\n",
       "        0.09468372,  0.13227688,  0.99716721,  0.19319674,  0.06342612,\n",
       "        1.01405411,  0.94631483,  1.06682301,  0.98454516,  0.20483176,\n",
       "        0.2201852 ,  0.17302536,  0.12150116,  0.97311228,  1.01413656,\n",
       "        0.09006389,  0.19920292,  0.14812275,  0.94434584,  0.24550131,\n",
       "        0.13802195,  0.20972646,  0.11631647,  1.00495073,  0.13739331,\n",
       "        0.19963971,  0.15877121,  0.981874  ,  0.08309265,  1.02314523,\n",
       "        0.25204835,  1.10635814,  1.01779821,  0.98842837,  1.09443656,\n",
       "        0.93683255,  0.93786159,  0.15741945,  0.10495372,  0.11117141,\n",
       "        0.03178507,  0.11573599,  0.13224478,  0.21139646,  0.11565216,\n",
       "        0.12728538,  0.25023236,  1.01700317,  0.11723099,  1.01782662,\n",
       "       -0.00675913,  1.03162452,  0.13521641,  0.18131101,  0.98200125,\n",
       "        0.10618984,  1.07728748,  0.1875697 ,  0.14651648,  0.15317225,\n",
       "        0.9129128 ,  0.19435866,  0.07688142,  0.12820576,  1.03922239,\n",
       "        0.11921765,  0.96855438,  0.09642106,  0.05636879,  0.12782358,\n",
       "        0.1222476 ,  1.07451892,  0.12218514,  1.02298989,  0.98976852,\n",
       "        0.94140632,  0.9045538 ,  0.22044331,  0.0743476 ,  0.0679866 ,\n",
       "        0.08890184,  0.09284844,  0.13054188,  0.7635344 ,  1.05677755,\n",
       "        1.03246384,  0.13601145,  0.15357381,  0.07408315,  0.02642909,\n",
       "        0.0310044 ,  0.20020168,  0.92549779,  1.05609962,  0.28584193,\n",
       "        0.21277493,  0.12477299,  1.03543921,  0.11014095,  1.0565129 ,\n",
       "        0.13348521,  0.14338343,  0.11397801,  0.11251911,  0.10089053,\n",
       "       -0.02963686,  0.08125917,  0.22642771,  0.09940427,  0.12083337,\n",
       "        0.97360622,  1.02801175,  0.16044355,  1.00046412,  1.04691166,\n",
       "        0.06118145,  0.06150605,  1.01264968,  0.1203553 ,  0.22188404,\n",
       "        0.1485361 ,  0.11206103,  0.21874685,  0.19514905,  0.99118709,\n",
       "        0.28755335,  0.92219141,  0.18425703,  1.07241751,  0.15357381,\n",
       "        0.17159424,  1.03402351,  0.16474781,  0.03615758,  0.20081696,\n",
       "        1.04508186,  1.01458239,  0.98193879,  1.03076702,  0.14831247,\n",
       "        0.11690528,  0.15683031,  1.06908429,  0.09681668,  1.03728753,\n",
       "        0.180847  , -0.01103627,  1.05117058,  0.97914038,  0.13100377,\n",
       "        0.16934103,  0.13181597,  0.90095821,  1.07365964,  0.10872454,\n",
       "        0.19968099,  0.22662315,  0.08660991,  0.05322362,  0.06975318,\n",
       "        0.16861077,  1.0174292 ,  1.08445016,  0.94089409,  0.94067607,\n",
       "        1.0355249 ,  1.01773002,  0.20530804,  0.7640329 ,  0.21198201,\n",
       "        0.21398538,  0.16459573,  0.15064687,  0.19868217,  1.00808018,\n",
       "        0.14739017,  0.88252609,  0.24518073,  0.96091171,  0.93021658,\n",
       "        1.02084881,  1.04646711,  1.05675484,  1.00914739,  0.18337324,\n",
       "        0.91132685,  0.20594328,  0.97321272,  1.00429933,  0.94767073,\n",
       "        0.17781844,  0.23653924,  0.89191603,  0.89002438,  0.21957988,\n",
       "        0.08364198,  0.10306279,  1.03086802,  0.22064922,  0.28704666,\n",
       "        0.14470323, -0.0821443 ,  0.19313195,  1.06936692,  0.07329029,\n",
       "        0.20066363,  1.05949297,  0.13853917,  0.24666335,  0.17739931,\n",
       "        1.03215933,  0.0578157 ,  0.92696062,  0.14455747,  0.97456448,\n",
       "        1.01881919,  0.13655199,  0.27018625,  0.94708179,  0.15656194,\n",
       "        0.1185107 ,  0.05204972,  0.01908282,  0.1775221 ,  0.22108899,\n",
       "        0.21836943,  0.84326667,  0.24113131,  0.20746858,  0.13708475,\n",
       "        0.13240181,  0.30612238,  0.83834461,  0.14969433,  0.15883357,\n",
       "        0.20459152,  0.97617906,  0.15664059,  0.30254531,  0.89625952,\n",
       "        1.02529776,  0.18749105,  0.96811248,  0.95199444,  0.16516075,\n",
       "        1.12507653,  0.18170091,  0.96339527,  0.07744215,  0.26128831,\n",
       "        0.90048313,  0.28250511,  0.1026476 ,  0.19787216,  0.09142842,\n",
       "        0.22902858,  0.15808724,  0.99102758,  1.00468237,  1.0628782 ,\n",
       "        1.01437627,  0.15936035,  0.12934888,  0.11786356,  0.09791426,\n",
       "        0.05126078,  1.00543473,  0.18293134,  0.96650833,  0.09800882,\n",
       "        0.16359949,  0.09575327,  1.03287945,  1.04563282,  0.89482138,\n",
       "        1.10418594,  0.26967762])"
      ]
     },
     "execution_count": 34,
     "metadata": {},
     "output_type": "execute_result"
    }
   ],
   "source": [
    "y_pred = model.predict(x_test)\n",
    "y_pred"
   ]
  },
  {
   "cell_type": "code",
   "execution_count": 35,
   "id": "f4b47715",
   "metadata": {},
   "outputs": [
    {
     "data": {
      "text/plain": [
       "1230    1\n",
       "1290    1\n",
       "2428    1\n",
       "664     0\n",
       "87      1\n",
       "       ..\n",
       "1907    1\n",
       "753     1\n",
       "1806    1\n",
       "34      1\n",
       "1654    0\n",
       "Name: Died, Length: 772, dtype: int64"
      ]
     },
     "execution_count": 35,
     "metadata": {},
     "output_type": "execute_result"
    }
   ],
   "source": [
    "y_test"
   ]
  },
  {
   "cell_type": "code",
   "execution_count": 36,
   "id": "62f1d268",
   "metadata": {},
   "outputs": [
    {
     "data": {
      "text/plain": [
       "array([-7.85848926e-01, -2.60321782e-02,  3.50607758e-02,  6.67789513e-04,\n",
       "       -1.23171992e-02,  2.86087686e-03, -5.38499642e-03,  1.01102635e-02,\n",
       "       -1.70561971e-02])"
      ]
     },
     "execution_count": 36,
     "metadata": {},
     "output_type": "execute_result"
    }
   ],
   "source": [
    "model.coef_"
   ]
  },
  {
   "cell_type": "code",
   "execution_count": 37,
   "id": "0c190196",
   "metadata": {},
   "outputs": [
    {
     "data": {
      "text/plain": [
       "-69.64698785148659"
      ]
     },
     "execution_count": 37,
     "metadata": {},
     "output_type": "execute_result"
    }
   ],
   "source": [
    "model.intercept_"
   ]
  },
  {
   "cell_type": "code",
   "execution_count": 38,
   "id": "4a9347fb",
   "metadata": {},
   "outputs": [
    {
     "data": {
      "text/plain": [
       "0.0704913922457055"
      ]
     },
     "execution_count": 38,
     "metadata": {},
     "output_type": "execute_result"
    }
   ],
   "source": [
    "MSE = mean_squared_error(y_test,y_pred)\n",
    "MSE"
   ]
  },
  {
   "cell_type": "code",
   "execution_count": 39,
   "id": "35bf12c1",
   "metadata": {},
   "outputs": [
    {
     "data": {
      "text/plain": [
       "0.16663423412390746"
      ]
     },
     "execution_count": 39,
     "metadata": {},
     "output_type": "execute_result"
    }
   ],
   "source": [
    "MAE = mean_absolute_error(y_test,y_pred)\n",
    "MAE"
   ]
  },
  {
   "cell_type": "code",
   "execution_count": 40,
   "id": "5c9570e7",
   "metadata": {},
   "outputs": [
    {
     "data": {
      "text/plain": [
       "0.2655021511131416"
      ]
     },
     "execution_count": 40,
     "metadata": {},
     "output_type": "execute_result"
    }
   ],
   "source": [
    "RMSE = np.sqrt(MSE)\n",
    "RMSE"
   ]
  },
  {
   "cell_type": "markdown",
   "id": "95c0910a",
   "metadata": {},
   "source": [
    "###### Insight \n",
    "* since its in the error range[-1,-1] it is good model\n",
    "* but to be more Precise lets check R2_score"
   ]
  },
  {
   "cell_type": "code",
   "execution_count": 41,
   "id": "f948a851",
   "metadata": {},
   "outputs": [
    {
     "data": {
      "text/plain": [
       "0.7176079886794835"
      ]
     },
     "execution_count": 41,
     "metadata": {},
     "output_type": "execute_result"
    }
   ],
   "source": [
    "r2 = r2_score(y_test,y_pred)\n",
    "r2"
   ]
  },
  {
   "cell_type": "markdown",
   "id": "5f6d2ad6",
   "metadata": {},
   "source": [
    "##### Insight\n",
    "* The model has read 71% of the data\n",
    "* 71% better model to make predction"
   ]
  }
 ],
 "metadata": {
  "kernelspec": {
   "display_name": "Python 3 (ipykernel)",
   "language": "python",
   "name": "python3"
  },
  "language_info": {
   "codemirror_mode": {
    "name": "ipython",
    "version": 3
   },
   "file_extension": ".py",
   "mimetype": "text/x-python",
   "name": "python",
   "nbconvert_exporter": "python",
   "pygments_lexer": "ipython3",
   "version": "3.10.9"
  }
 },
 "nbformat": 4,
 "nbformat_minor": 5
}
